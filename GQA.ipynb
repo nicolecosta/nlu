{
 "cells": [
  {
   "cell_type": "markdown",
   "metadata": {},
   "source": [
    "# **Multilingual Universal Sentence Encoder Q&A Retrieval**"
   ]
  },
  {
   "cell_type": "code",
   "execution_count": 6,
   "metadata": {},
   "outputs": [
    {
     "name": "stdout",
     "output_type": "stream",
     "text": [
      "Note: you may need to restart the kernel to use updated packages.\n",
      "Note: you may need to restart the kernel to use updated packages.\n",
      "Note: you may need to restart the kernel to use updated packages.\n",
      "Note: you may need to restart the kernel to use updated packages.\n",
      "Collecting ipywidgets\n",
      "  Downloading ipywidgets-8.0.2-py3-none-any.whl (134 kB)\n",
      "\u001b[K     |████████████████████████████████| 134 kB 37.3 MB/s eta 0:00:01\n",
      "\u001b[?25hCollecting jupyterlab-widgets~=3.0\n",
      "  Downloading jupyterlab_widgets-3.0.3-py3-none-any.whl (384 kB)\n",
      "\u001b[K     |████████████████████████████████| 384 kB 88.0 MB/s eta 0:00:01\n",
      "\u001b[?25hRequirement already satisfied: traitlets>=4.3.1 in /home/ubuntu/Projects/Labs/.venv/lib/python3.8/site-packages (from ipywidgets) (5.4.0)\n",
      "Requirement already satisfied: ipython>=6.1.0 in /home/ubuntu/Projects/Labs/.venv/lib/python3.8/site-packages (from ipywidgets) (8.5.0)\n",
      "Collecting widgetsnbextension~=4.0\n",
      "  Downloading widgetsnbextension-4.0.3-py3-none-any.whl (2.0 MB)\n",
      "\u001b[K     |████████████████████████████████| 2.0 MB 85.5 MB/s eta 0:00:01\n",
      "\u001b[?25hRequirement already satisfied: ipykernel>=4.5.1 in /home/ubuntu/Projects/Labs/.venv/lib/python3.8/site-packages (from ipywidgets) (6.16.0)\n",
      "Requirement already satisfied: backcall in /home/ubuntu/Projects/Labs/.venv/lib/python3.8/site-packages (from ipython>=6.1.0->ipywidgets) (0.2.0)\n",
      "Requirement already satisfied: pygments>=2.4.0 in /home/ubuntu/Projects/Labs/.venv/lib/python3.8/site-packages (from ipython>=6.1.0->ipywidgets) (2.13.0)\n",
      "Requirement already satisfied: decorator in /home/ubuntu/Projects/Labs/.venv/lib/python3.8/site-packages (from ipython>=6.1.0->ipywidgets) (5.1.1)\n",
      "Requirement already satisfied: prompt-toolkit<3.1.0,>3.0.1 in /home/ubuntu/Projects/Labs/.venv/lib/python3.8/site-packages (from ipython>=6.1.0->ipywidgets) (3.0.31)\n",
      "Requirement already satisfied: pexpect>4.3; sys_platform != \"win32\" in /home/ubuntu/Projects/Labs/.venv/lib/python3.8/site-packages (from ipython>=6.1.0->ipywidgets) (4.8.0)\n",
      "Requirement already satisfied: matplotlib-inline in /home/ubuntu/Projects/Labs/.venv/lib/python3.8/site-packages (from ipython>=6.1.0->ipywidgets) (0.1.6)\n",
      "Requirement already satisfied: jedi>=0.16 in /home/ubuntu/Projects/Labs/.venv/lib/python3.8/site-packages (from ipython>=6.1.0->ipywidgets) (0.18.1)\n",
      "Requirement already satisfied: stack-data in /home/ubuntu/Projects/Labs/.venv/lib/python3.8/site-packages (from ipython>=6.1.0->ipywidgets) (0.5.1)\n",
      "Requirement already satisfied: pickleshare in /home/ubuntu/Projects/Labs/.venv/lib/python3.8/site-packages (from ipython>=6.1.0->ipywidgets) (0.7.5)\n",
      "Requirement already satisfied: debugpy>=1.0 in /home/ubuntu/Projects/Labs/.venv/lib/python3.8/site-packages (from ipykernel>=4.5.1->ipywidgets) (1.6.3)\n",
      "Requirement already satisfied: packaging in /home/ubuntu/Projects/Labs/.venv/lib/python3.8/site-packages (from ipykernel>=4.5.1->ipywidgets) (21.3)\n",
      "Requirement already satisfied: jupyter-client>=6.1.12 in /home/ubuntu/Projects/Labs/.venv/lib/python3.8/site-packages (from ipykernel>=4.5.1->ipywidgets) (7.3.5)\n",
      "Requirement already satisfied: tornado>=6.1 in /home/ubuntu/Projects/Labs/.venv/lib/python3.8/site-packages (from ipykernel>=4.5.1->ipywidgets) (6.2)\n",
      "Requirement already satisfied: nest-asyncio in /home/ubuntu/Projects/Labs/.venv/lib/python3.8/site-packages (from ipykernel>=4.5.1->ipywidgets) (1.5.6)\n",
      "Requirement already satisfied: pyzmq>=17 in /home/ubuntu/Projects/Labs/.venv/lib/python3.8/site-packages (from ipykernel>=4.5.1->ipywidgets) (24.0.1)\n",
      "Requirement already satisfied: psutil in /home/ubuntu/Projects/Labs/.venv/lib/python3.8/site-packages (from ipykernel>=4.5.1->ipywidgets) (5.9.2)\n",
      "Requirement already satisfied: wcwidth in /home/ubuntu/Projects/Labs/.venv/lib/python3.8/site-packages (from prompt-toolkit<3.1.0,>3.0.1->ipython>=6.1.0->ipywidgets) (0.2.5)\n",
      "Requirement already satisfied: ptyprocess>=0.5 in /home/ubuntu/Projects/Labs/.venv/lib/python3.8/site-packages (from pexpect>4.3; sys_platform != \"win32\"->ipython>=6.1.0->ipywidgets) (0.7.0)\n",
      "Requirement already satisfied: parso<0.9.0,>=0.8.0 in /home/ubuntu/Projects/Labs/.venv/lib/python3.8/site-packages (from jedi>=0.16->ipython>=6.1.0->ipywidgets) (0.8.3)\n",
      "Requirement already satisfied: executing in /home/ubuntu/Projects/Labs/.venv/lib/python3.8/site-packages (from stack-data->ipython>=6.1.0->ipywidgets) (1.1.0)\n",
      "Requirement already satisfied: asttokens in /home/ubuntu/Projects/Labs/.venv/lib/python3.8/site-packages (from stack-data->ipython>=6.1.0->ipywidgets) (2.0.8)\n",
      "Requirement already satisfied: pure-eval in /home/ubuntu/Projects/Labs/.venv/lib/python3.8/site-packages (from stack-data->ipython>=6.1.0->ipywidgets) (0.2.2)\n",
      "Requirement already satisfied: pyparsing!=3.0.5,>=2.0.2 in /home/ubuntu/Projects/Labs/.venv/lib/python3.8/site-packages (from packaging->ipykernel>=4.5.1->ipywidgets) (3.0.9)\n",
      "Requirement already satisfied: python-dateutil>=2.8.2 in /home/ubuntu/Projects/Labs/.venv/lib/python3.8/site-packages (from jupyter-client>=6.1.12->ipykernel>=4.5.1->ipywidgets) (2.8.2)\n",
      "Requirement already satisfied: entrypoints in /home/ubuntu/Projects/Labs/.venv/lib/python3.8/site-packages (from jupyter-client>=6.1.12->ipykernel>=4.5.1->ipywidgets) (0.4)\n",
      "Requirement already satisfied: jupyter-core>=4.9.2 in /home/ubuntu/Projects/Labs/.venv/lib/python3.8/site-packages (from jupyter-client>=6.1.12->ipykernel>=4.5.1->ipywidgets) (4.11.1)\n",
      "Requirement already satisfied: six in /home/ubuntu/Projects/Labs/.venv/lib/python3.8/site-packages (from asttokens->stack-data->ipython>=6.1.0->ipywidgets) (1.16.0)\n",
      "Installing collected packages: jupyterlab-widgets, widgetsnbextension, ipywidgets\n",
      "Successfully installed ipywidgets-8.0.2 jupyterlab-widgets-3.0.3 widgetsnbextension-4.0.3\n",
      "Note: you may need to restart the kernel to use updated packages.\n"
     ]
    }
   ],
   "source": [
    "# Install the latest Tensorflow version.\n",
    "%pip install -q \"tensorflow-text==2.8.*\"\n",
    "%pip install -q simpleneighbors[annoy]\n",
    "%pip install -q nltk\n",
    "%pip install -q tqdm\n",
    "%pip install ipywidgets"
   ]
  },
  {
   "cell_type": "code",
   "execution_count": 5,
   "metadata": {},
   "outputs": [
    {
     "name": "stderr",
     "output_type": "stream",
     "text": [
      "[nltk_data] Downloading package punkt to /home/ubuntu/nltk_data...\n",
      "[nltk_data]   Package punkt is already up-to-date!\n"
     ]
    }
   ],
   "source": [
    "import json\n",
    "import nltk\n",
    "import os\n",
    "import pprint\n",
    "import random\n",
    "import simpleneighbors\n",
    "import urllib\n",
    "from IPython.display import HTML, display\n",
    "from tqdm.notebook import tqdm\n",
    "\n",
    "import tensorflow.compat.v2 as tf\n",
    "import tensorflow_hub as hub\n",
    "from tensorflow_text import SentencepieceTokenizer\n",
    "\n",
    "nltk.download('punkt')\n",
    "\n",
    "\n",
    "def download_squad(url):\n",
    "  return json.load(urllib.request.urlopen(url))\n",
    "\n",
    "def extract_sentences_from_squad_json(squad):\n",
    "  all_sentences = []\n",
    "  for data in squad['data']:\n",
    "    for paragraph in data['paragraphs']:\n",
    "      sentences = nltk.tokenize.sent_tokenize(paragraph['context'])\n",
    "      all_sentences.extend(zip(sentences, [paragraph['context']] * len(sentences)))\n",
    "  return list(set(all_sentences)) # remove duplicates\n",
    "\n",
    "def extract_questions_from_squad_json(squad):\n",
    "  questions = []\n",
    "  for data in squad['data']:\n",
    "    for paragraph in data['paragraphs']:\n",
    "      for qas in paragraph['qas']:\n",
    "        if qas['answers']:\n",
    "          questions.append((qas['question'], qas['answers'][0]['text']))\n",
    "  return list(set(questions))\n",
    "\n",
    "def output_with_highlight(text, highlight):\n",
    "  output = \"<li> \"\n",
    "  i = text.find(highlight)\n",
    "  while True:\n",
    "    if i == -1:\n",
    "      output += text\n",
    "      break\n",
    "    output += text[0:i]\n",
    "    output += '<b>'+text[i:i+len(highlight)]+'</b>'\n",
    "    text = text[i+len(highlight):]\n",
    "    i = text.find(highlight)\n",
    "  return output + \"</li>\\n\"\n",
    "\n",
    "def display_nearest_neighbors(query_text, answer_text=None):\n",
    "  query_embedding = model.signatures['question_encoder'](tf.constant([query_text]))['outputs'][0]\n",
    "  search_results = index.nearest(query_embedding, n=num_results)\n",
    "\n",
    "  if answer_text:\n",
    "    result_md = '''\n",
    "    <p>Random Question from SQuAD:</p>\n",
    "    <p>&nbsp;&nbsp;<b>%s</b></p>\n",
    "    <p>Answer:</p>\n",
    "    <p>&nbsp;&nbsp;<b>%s</b></p>\n",
    "    ''' % (query_text , answer_text)\n",
    "  else:\n",
    "    result_md = '''\n",
    "    <p>Question:</p>\n",
    "    <p>&nbsp;&nbsp;<b>%s</b></p>\n",
    "    ''' % query_text\n",
    "\n",
    "  result_md += '''\n",
    "    <p>Retrieved sentences :\n",
    "    <ol>\n",
    "  '''\n",
    "\n",
    "  if answer_text:\n",
    "    for s in search_results:\n",
    "      result_md += output_with_highlight(s, answer_text)\n",
    "  else:\n",
    "    for s in search_results:\n",
    "      result_md += '<li>' + s + '</li>\\n'\n",
    "\n",
    "  result_md += \"</ol>\"\n",
    "  display(HTML(result_md))"
   ]
  },
  {
   "cell_type": "code",
   "execution_count": 6,
   "metadata": {},
   "outputs": [
    {
     "name": "stdout",
     "output_type": "stream",
     "text": [
      "10452 sentences, 10552 questions extracted from SQuAD https://rajpurkar.github.io/SQuAD-explorer/dataset/dev-v1.1.json\n",
      "\n",
      "Example sentence and context:\n",
      "\n",
      "sentence:\n",
      "\n",
      "('Some episodes have been returned to the BBC from the archives of other '\n",
      " 'countries who bought prints for broadcast, or by private individuals who '\n",
      " 'acquired them by various means.')\n",
      "\n",
      "context:\n",
      "\n",
      "('Some episodes have been returned to the BBC from the archives of other '\n",
      " 'countries who bought prints for broadcast, or by private individuals who '\n",
      " 'acquired them by various means. Early colour videotape recordings made '\n",
      " 'off-air by fans have also been retrieved, as well as excerpts filmed from '\n",
      " 'the television screen onto 8 mm cine film and clips that were shown on other '\n",
      " 'programmes. Audio versions of all of the lost episodes exist from home '\n",
      " 'viewers who made tape recordings of the show. Short clips from every story '\n",
      " 'with the exception of Marco Polo, \"Mission to the Unknown\" and The Massacre '\n",
      " \"of St Bartholomew's Eve also exist.\")\n",
      "\n"
     ]
    }
   ],
   "source": [
    "squad_url = 'https://rajpurkar.github.io/SQuAD-explorer/dataset/dev-v1.1.json'\n",
    "\n",
    "squad_json = download_squad(squad_url)\n",
    "\n",
    "my_json = \n",
    "sentences = extract_sentences_from_squad_json(squad_json)\n",
    "questions = extract_questions_from_squad_json(squad_json)\n",
    "print(\"%s sentences, %s questions extracted from SQuAD %s\" % (len(sentences), len(questions), squad_url))\n",
    "\n",
    "print(\"\\nExample sentence and context:\\n\")\n",
    "sentence = random.choice(sentences)\n",
    "print(\"sentence:\\n\")\n",
    "pprint.pprint(sentence[0])\n",
    "print(\"\\ncontext:\\n\")\n",
    "pprint.pprint(sentence[1])\n",
    "print()"
   ]
  },
  {
   "cell_type": "code",
   "execution_count": 7,
   "metadata": {},
   "outputs": [],
   "source": [
    "module_url = \"https://tfhub.dev/google/universal-sentence-encoder-multilingual-qa/3\"\n",
    "model = hub.load(module_url)"
   ]
  },
  {
   "cell_type": "code",
   "execution_count": 8,
   "metadata": {},
   "outputs": [
    {
     "name": "stdout",
     "output_type": "stream",
     "text": [
      "Computing embeddings for 10452 sentences\n"
     ]
    },
    {
     "data": {
      "application/vnd.jupyter.widget-view+json": {
       "model_id": "d28c0ca1425142ada7c35cce18c49de6",
       "version_major": 2,
       "version_minor": 0
      },
      "text/plain": [
       "  0%|          | 0/104 [00:00<?, ?it/s]"
      ]
     },
     "metadata": {},
     "output_type": "display_data"
    },
    {
     "name": "stdout",
     "output_type": "stream",
     "text": [
      "simpleneighbors index for 10452 sentences built.\n"
     ]
    }
   ],
   "source": [
    "batch_size = 100\n",
    "\n",
    "encodings = model.signatures['response_encoder'](\n",
    "  input=tf.constant([sentences[0][0]]),\n",
    "  context=tf.constant([sentences[0][1]]))\n",
    "index = simpleneighbors.SimpleNeighbors(\n",
    "    len(encodings['outputs'][0]), metric='angular')\n",
    "\n",
    "print('Computing embeddings for %s sentences' % len(sentences))\n",
    "slices = zip(*(iter(sentences),) * batch_size)\n",
    "num_batches = int(len(sentences) / batch_size)\n",
    "for s in tqdm(slices, total=num_batches):\n",
    "  response_batch = list([r for r, c in s])\n",
    "  context_batch = list([c for r, c in s])\n",
    "  encodings = model.signatures['response_encoder'](\n",
    "    input=tf.constant(response_batch),\n",
    "    context=tf.constant(context_batch)\n",
    "  )\n",
    "  for batch_index, batch in enumerate(response_batch):\n",
    "    index.add_one(batch, encodings['outputs'][batch_index])\n",
    "\n",
    "index.build()\n",
    "print('simpleneighbors index for %s sentences built.' % len(sentences))"
   ]
  },
  {
   "cell_type": "code",
   "execution_count": 9,
   "metadata": {},
   "outputs": [
    {
     "data": {
      "text/html": [
       "\n",
       "    <p>Random Question from SQuAD:</p>\n",
       "    <p>&nbsp;&nbsp;<b>What was the first steam powered device used commercially?</b></p>\n",
       "    <p>Answer:</p>\n",
       "    <p>&nbsp;&nbsp;<b>water pump</b></p>\n",
       "    \n",
       "    <p>Retrieved sentences :\n",
       "    <ol>\n",
       "  <li> The first commercial steam-powered device was a <b>water pump</b>, developed in 1698 by Thomas Savery.</li>\n",
       "<li> Using boiling water to produce mechanical motion goes back over 2000 years, but early devices were not practical.</li>\n",
       "<li> Injectors became popular in the 1850s but are no longer widely used, except in applications such as steam locomotives.</li>\n",
       "<li> Today most electric power is provided by steam turbines.</li>\n",
       "<li> The final major evolution of the steam engine design was the use of steam turbines starting in the late part of the 19th century.</li>\n",
       "<li> Thomas Newcomen's atmospheric engine was the first commercial true steam engine using a piston, and was used in 1712 for pumping in a mine.</li>\n",
       "<li> It used condensing steam to create a vacuum which was used to raise water from below, then it used steam pressure to raise it higher.</li>\n",
       "<li> For mobile applications steam has been largely superseded by internal combustion engines or electric motors.</li>\n",
       "<li> The Rankine cycle is used in virtually all steam power production applications.</li>\n",
       "<li> Reciprocating piston type steam engines remained the dominant source of power until the early 20th century, when advances in the design of electric motors and internal combustion engines gradually resulted in the replacement of reciprocating (piston) steam engines in commercial usage, and the ascendancy of steam turbines in power generation.</li>\n",
       "<li> The first commercially successful true engine, in that it could generate power and transmit it to a machine, was the atmospheric engine, invented by Thomas Newcomen around 1712.</li>\n",
       "<li> It received some use in mines, pumping stations and for supplying water wheels used to power textile machinery.</li>\n",
       "<li> Although the reciprocating steam engine is no longer in widespread commercial use, various companies are exploring or exploiting the potential of the engine as an alternative to internal combustion engines.</li>\n",
       "<li> A limited number of steam turbine railroad locomotives were manufactured.</li>\n",
       "<li> Land-based steam engines could exhaust much of their steam, as feed water was usually readily available.</li>\n",
       "<li> Steam engines remained the dominant source of power until the early 20th century, when advances in the design of electric motors and internal combustion engines gradually resulted in the replacement of reciprocating (piston) steam engines, with shipping in the 20th-century relying upon the steam turbine.</li>\n",
       "<li> Steam engines can be said to have been the moving force behind the Industrial Revolution and saw widespread commercial use driving machinery in factories, mills and mines; powering pumping stations; and propelling transport appliances such as railway locomotives, ships, steamboats and road vehicles.</li>\n",
       "<li> The experimental measurements made by Watt on a model steam engine led to the development of the separate condenser.</li>\n",
       "<li> Considering that the great majority of worldwide electric generation is produced by turbine type steam engines, the \"steam age\" is continuing with energy levels far beyond those of the turn of the 19th century.</li>\n",
       "<li> Early Watt engines equipped with high-pressure steam improved this to 65 million.</li>\n",
       "<li> The cycle is an arrangement of components as is typically used for simple power production, and utilizes the phase change of water (boiling water producing steam, condensing exhaust steam, producing liquid water)) to provide a practical heat/power conversion system.</li>\n",
       "<li> There have at one time or another been steam-powered farm tractors, motorcycles (without much success) and even automobiles as the Stanley Steamer.</li>\n",
       "<li> Newcomen's engine was relatively inefficient, and in most cases was used for pumping water.</li>\n",
       "<li> The historical measure of a steam engine's energy efficiency was its \"duty\".</li>\n",
       "<li> The atmospheric engines of Newcomen and Watt were large compared to the amount of power they produced, but high pressure steam engines were light enough to be applied to vehicles such as traction engines and the railway locomotives.</li>\n",
       "</ol>"
      ],
      "text/plain": [
       "<IPython.core.display.HTML object>"
      ]
     },
     "metadata": {},
     "output_type": "display_data"
    }
   ],
   "source": [
    "num_results = 25\n",
    "\n",
    "query = random.choice(questions)\n",
    "display_nearest_neighbors(query[0], query[1])"
   ]
  },
  {
   "cell_type": "code",
   "execution_count": null,
   "metadata": {},
   "outputs": [],
   "source": []
  },
  {
   "cell_type": "code",
   "execution_count": null,
   "metadata": {},
   "outputs": [],
   "source": []
  }
 ],
 "metadata": {
  "kernelspec": {
   "display_name": "Python 3.8.10 ('.venv': venv)",
   "language": "python",
   "name": "python3"
  },
  "language_info": {
   "codemirror_mode": {
    "name": "ipython",
    "version": 3
   },
   "file_extension": ".py",
   "mimetype": "text/x-python",
   "name": "python",
   "nbconvert_exporter": "python",
   "pygments_lexer": "ipython3",
   "version": "3.8.10"
  },
  "orig_nbformat": 4,
  "vscode": {
   "interpreter": {
    "hash": "ce0e3ceed738d46069aedc581b07a7ea6f5b860e3f82645d270e44bc87bd24f1"
   }
  }
 },
 "nbformat": 4,
 "nbformat_minor": 2
}
